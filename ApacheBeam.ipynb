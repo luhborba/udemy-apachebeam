{
  "nbformat": 4,
  "nbformat_minor": 0,
  "metadata": {
    "colab": {
      "provenance": [],
      "authorship_tag": "ABX9TyPtc3hzQWzosYN8Hn069zsC",
      "include_colab_link": true
    },
    "kernelspec": {
      "name": "python3",
      "display_name": "Python 3"
    },
    "language_info": {
      "name": "python"
    }
  },
  "cells": [
    {
      "cell_type": "markdown",
      "metadata": {
        "id": "view-in-github",
        "colab_type": "text"
      },
      "source": [
        "<a href=\"https://colab.research.google.com/github/luhborba/udemy-apachebeam/blob/main/ApacheBeam.ipynb\" target=\"_parent\"><img src=\"https://colab.research.google.com/assets/colab-badge.svg\" alt=\"Open In Colab\"/></a>"
      ]
    },
    {
      "cell_type": "markdown",
      "source": [
        "# Aula 3.1"
      ],
      "metadata": {
        "id": "RcId6ueaYDPa"
      }
    },
    {
      "cell_type": "markdown",
      "source": [
        "## Primeiro passo é instalar o Pacote\n",
        "interactive: devido a necessidade especifica do collab\n",
        "\n"
      ],
      "metadata": {
        "id": "AA27nfECXCnk"
      }
    },
    {
      "cell_type": "code",
      "execution_count": 1,
      "metadata": {
        "colab": {
          "base_uri": "https://localhost:8080/",
          "height": 1000
        },
        "id": "4Q-u8lnqWudv",
        "outputId": "9a21c3fb-7d20-41dc-ed56-1b511cd3d7f4"
      },
      "outputs": [
        {
          "output_type": "stream",
          "name": "stdout",
          "text": [
            "Collecting apache-beam[interactive]\n",
            "  Downloading apache_beam-2.59.0-cp310-cp310-manylinux_2_17_x86_64.manylinux2014_x86_64.whl.metadata (7.5 kB)\n",
            "Collecting crcmod<2.0,>=1.7 (from apache-beam[interactive])\n",
            "  Downloading crcmod-1.7.tar.gz (89 kB)\n",
            "\u001b[2K     \u001b[90m━━━━━━━━━━━━━━━━━━━━━━━━━━━━━━━━━━━━━━━━\u001b[0m \u001b[32m89.7/89.7 kB\u001b[0m \u001b[31m1.6 MB/s\u001b[0m eta \u001b[36m0:00:00\u001b[0m\n",
            "\u001b[?25h  Preparing metadata (setup.py) ... \u001b[?25l\u001b[?25hdone\n",
            "Collecting orjson<4,>=3.9.7 (from apache-beam[interactive])\n",
            "  Downloading orjson-3.10.7-cp310-cp310-manylinux_2_17_x86_64.manylinux2014_x86_64.whl.metadata (50 kB)\n",
            "\u001b[2K     \u001b[90m━━━━━━━━━━━━━━━━━━━━━━━━━━━━━━━━━━━━━━━━\u001b[0m \u001b[32m50.4/50.4 kB\u001b[0m \u001b[31m655.9 kB/s\u001b[0m eta \u001b[36m0:00:00\u001b[0m\n",
            "\u001b[?25hCollecting dill<0.3.2,>=0.3.1.1 (from apache-beam[interactive])\n",
            "  Downloading dill-0.3.1.1.tar.gz (151 kB)\n",
            "\u001b[2K     \u001b[90m━━━━━━━━━━━━━━━━━━━━━━━━━━━━━━━━━━━━━━━━\u001b[0m \u001b[32m152.0/152.0 kB\u001b[0m \u001b[31m5.0 MB/s\u001b[0m eta \u001b[36m0:00:00\u001b[0m\n",
            "\u001b[?25h  Preparing metadata (setup.py) ... \u001b[?25l\u001b[?25hdone\n",
            "Requirement already satisfied: cloudpickle~=2.2.1 in /usr/local/lib/python3.10/dist-packages (from apache-beam[interactive]) (2.2.1)\n",
            "Collecting fastavro<2,>=0.23.6 (from apache-beam[interactive])\n",
            "  Downloading fastavro-1.9.7-cp310-cp310-manylinux_2_17_x86_64.manylinux2014_x86_64.whl.metadata (5.5 kB)\n",
            "Collecting fasteners<1.0,>=0.3 (from apache-beam[interactive])\n",
            "  Downloading fasteners-0.19-py3-none-any.whl.metadata (4.9 kB)\n",
            "Requirement already satisfied: grpcio!=1.48.0,!=1.59.*,!=1.60.*,!=1.61.*,!=1.62.0,!=1.62.1,<2,>=1.33.1 in /usr/local/lib/python3.10/dist-packages (from apache-beam[interactive]) (1.64.1)\n",
            "Collecting hdfs<3.0.0,>=2.1.0 (from apache-beam[interactive])\n",
            "  Downloading hdfs-2.7.3.tar.gz (43 kB)\n",
            "\u001b[2K     \u001b[90m━━━━━━━━━━━━━━━━━━━━━━━━━━━━━━━━━━━━━━━━\u001b[0m \u001b[32m43.5/43.5 kB\u001b[0m \u001b[31m2.3 MB/s\u001b[0m eta \u001b[36m0:00:00\u001b[0m\n",
            "\u001b[?25h  Preparing metadata (setup.py) ... \u001b[?25l\u001b[?25hdone\n",
            "Requirement already satisfied: httplib2<0.23.0,>=0.8 in /usr/local/lib/python3.10/dist-packages (from apache-beam[interactive]) (0.22.0)\n",
            "Requirement already satisfied: jsonschema<5.0.0,>=4.0.0 in /usr/local/lib/python3.10/dist-packages (from apache-beam[interactive]) (4.23.0)\n",
            "Requirement already satisfied: jsonpickle<4.0.0,>=3.0.0 in /usr/local/lib/python3.10/dist-packages (from apache-beam[interactive]) (3.3.0)\n",
            "Requirement already satisfied: numpy<1.27.0,>=1.14.3 in /usr/local/lib/python3.10/dist-packages (from apache-beam[interactive]) (1.26.4)\n",
            "Collecting objsize<0.8.0,>=0.6.1 (from apache-beam[interactive])\n",
            "  Downloading objsize-0.7.0-py3-none-any.whl.metadata (12 kB)\n",
            "Requirement already satisfied: packaging>=22.0 in /usr/local/lib/python3.10/dist-packages (from apache-beam[interactive]) (24.1)\n",
            "Collecting pymongo<5.0.0,>=3.8.0 (from apache-beam[interactive])\n",
            "  Downloading pymongo-4.10.1-cp310-cp310-manylinux_2_17_x86_64.manylinux2014_x86_64.whl.metadata (22 kB)\n",
            "Requirement already satisfied: proto-plus<2,>=1.7.1 in /usr/local/lib/python3.10/dist-packages (from apache-beam[interactive]) (1.24.0)\n",
            "Requirement already satisfied: protobuf!=4.0.*,!=4.21.*,!=4.22.0,!=4.23.*,!=4.24.*,<4.26.0,>=3.20.3 in /usr/local/lib/python3.10/dist-packages (from apache-beam[interactive]) (3.20.3)\n",
            "Collecting pydot<2,>=1.2.0 (from apache-beam[interactive])\n",
            "  Downloading pydot-1.4.2-py2.py3-none-any.whl.metadata (8.0 kB)\n",
            "Requirement already satisfied: python-dateutil<3,>=2.8.0 in /usr/local/lib/python3.10/dist-packages (from apache-beam[interactive]) (2.8.2)\n",
            "Requirement already satisfied: pytz>=2018.3 in /usr/local/lib/python3.10/dist-packages (from apache-beam[interactive]) (2024.2)\n",
            "Collecting redis<6,>=5.0.0 (from apache-beam[interactive])\n",
            "  Downloading redis-5.1.1-py3-none-any.whl.metadata (9.1 kB)\n",
            "Requirement already satisfied: regex>=2020.6.8 in /usr/local/lib/python3.10/dist-packages (from apache-beam[interactive]) (2024.9.11)\n",
            "Requirement already satisfied: requests<3.0.0,>=2.24.0 in /usr/local/lib/python3.10/dist-packages (from apache-beam[interactive]) (2.32.3)\n",
            "Requirement already satisfied: typing-extensions>=3.7.0 in /usr/local/lib/python3.10/dist-packages (from apache-beam[interactive]) (4.12.2)\n",
            "Collecting zstandard<1,>=0.18.0 (from apache-beam[interactive])\n",
            "  Downloading zstandard-0.23.0-cp310-cp310-manylinux_2_17_x86_64.manylinux2014_x86_64.whl.metadata (3.0 kB)\n",
            "Requirement already satisfied: pyarrow<17.0.0,>=3.0.0 in /usr/local/lib/python3.10/dist-packages (from apache-beam[interactive]) (16.1.0)\n",
            "Requirement already satisfied: pyarrow-hotfix<1 in /usr/local/lib/python3.10/dist-packages (from apache-beam[interactive]) (0.6)\n",
            "Collecting js2py<1,>=0.74 (from apache-beam[interactive])\n",
            "  Downloading Js2Py-0.74-py3-none-any.whl.metadata (868 bytes)\n",
            "Collecting facets-overview<2,>=1.1.0 (from apache-beam[interactive])\n",
            "  Downloading facets_overview-1.1.1-py2.py3-none-any.whl.metadata (10 kB)\n",
            "Collecting google-cloud-dataproc<6,>=5.0.0 (from apache-beam[interactive])\n",
            "  Downloading google_cloud_dataproc-5.13.0-py2.py3-none-any.whl.metadata (5.2 kB)\n",
            "Collecting ipython<9,>=8 (from apache-beam[interactive])\n",
            "  Downloading ipython-8.28.0-py3-none-any.whl.metadata (5.0 kB)\n",
            "Collecting ipykernel<7,>=6 (from apache-beam[interactive])\n",
            "  Downloading ipykernel-6.29.5-py3-none-any.whl.metadata (6.3 kB)\n",
            "Collecting ipywidgets<9,>=8 (from apache-beam[interactive])\n",
            "  Downloading ipywidgets-8.1.5-py3-none-any.whl.metadata (2.3 kB)\n",
            "Requirement already satisfied: jupyter-client!=6.1.13,<8.2.1,>=6.1.11 in /usr/local/lib/python3.10/dist-packages (from apache-beam[interactive]) (6.1.12)\n",
            "Collecting timeloop<2,>=1.0.2 (from apache-beam[interactive])\n",
            "  Downloading timeloop-1.0.2.tar.gz (2.9 kB)\n",
            "  Preparing metadata (setup.py) ... \u001b[?25l\u001b[?25hdone\n",
            "Requirement already satisfied: nbformat<6,>=5.0.5 in /usr/local/lib/python3.10/dist-packages (from apache-beam[interactive]) (5.10.4)\n",
            "Requirement already satisfied: nbconvert<8,>=6.2.0 in /usr/local/lib/python3.10/dist-packages (from apache-beam[interactive]) (6.5.4)\n",
            "Requirement already satisfied: pandas!=1.5.0,!=1.5.1,<2.3,>=1.4.3 in /usr/local/lib/python3.10/dist-packages (from apache-beam[interactive]) (2.2.2)\n",
            "Requirement already satisfied: google-api-core!=2.0.*,!=2.1.*,!=2.10.*,!=2.2.*,!=2.3.*,!=2.4.*,!=2.5.*,!=2.6.*,!=2.7.*,!=2.8.*,!=2.9.*,<3.0.0dev,>=1.34.1 in /usr/local/lib/python3.10/dist-packages (from google-api-core[grpc]!=2.0.*,!=2.1.*,!=2.10.*,!=2.2.*,!=2.3.*,!=2.4.*,!=2.5.*,!=2.6.*,!=2.7.*,!=2.8.*,!=2.9.*,<3.0.0dev,>=1.34.1->google-cloud-dataproc<6,>=5.0.0->apache-beam[interactive]) (2.19.2)\n",
            "Requirement already satisfied: google-auth!=2.24.0,!=2.25.0,<3.0.0dev,>=2.14.1 in /usr/local/lib/python3.10/dist-packages (from google-cloud-dataproc<6,>=5.0.0->apache-beam[interactive]) (2.27.0)\n",
            "Requirement already satisfied: grpc-google-iam-v1<1.0.0dev,>=0.12.4 in /usr/local/lib/python3.10/dist-packages (from google-cloud-dataproc<6,>=5.0.0->apache-beam[interactive]) (0.13.1)\n",
            "Collecting docopt (from hdfs<3.0.0,>=2.1.0->apache-beam[interactive])\n",
            "  Downloading docopt-0.6.2.tar.gz (25 kB)\n",
            "  Preparing metadata (setup.py) ... \u001b[?25l\u001b[?25hdone\n",
            "Requirement already satisfied: six>=1.9.0 in /usr/local/lib/python3.10/dist-packages (from hdfs<3.0.0,>=2.1.0->apache-beam[interactive]) (1.16.0)\n",
            "Requirement already satisfied: pyparsing!=3.0.0,!=3.0.1,!=3.0.2,!=3.0.3,<4,>=2.4.2 in /usr/local/lib/python3.10/dist-packages (from httplib2<0.23.0,>=0.8->apache-beam[interactive]) (3.1.4)\n",
            "Collecting comm>=0.1.1 (from ipykernel<7,>=6->apache-beam[interactive])\n",
            "  Downloading comm-0.2.2-py3-none-any.whl.metadata (3.7 kB)\n",
            "Requirement already satisfied: debugpy>=1.6.5 in /usr/local/lib/python3.10/dist-packages (from ipykernel<7,>=6->apache-beam[interactive]) (1.6.6)\n",
            "Requirement already satisfied: jupyter-core!=5.0.*,>=4.12 in /usr/local/lib/python3.10/dist-packages (from ipykernel<7,>=6->apache-beam[interactive]) (5.7.2)\n",
            "Requirement already satisfied: matplotlib-inline>=0.1 in /usr/local/lib/python3.10/dist-packages (from ipykernel<7,>=6->apache-beam[interactive]) (0.1.7)\n",
            "Requirement already satisfied: nest-asyncio in /usr/local/lib/python3.10/dist-packages (from ipykernel<7,>=6->apache-beam[interactive]) (1.6.0)\n",
            "Requirement already satisfied: psutil in /usr/local/lib/python3.10/dist-packages (from ipykernel<7,>=6->apache-beam[interactive]) (5.9.5)\n",
            "Requirement already satisfied: pyzmq>=24 in /usr/local/lib/python3.10/dist-packages (from ipykernel<7,>=6->apache-beam[interactive]) (24.0.1)\n",
            "Requirement already satisfied: tornado>=6.1 in /usr/local/lib/python3.10/dist-packages (from ipykernel<7,>=6->apache-beam[interactive]) (6.3.3)\n",
            "Requirement already satisfied: traitlets>=5.4.0 in /usr/local/lib/python3.10/dist-packages (from ipykernel<7,>=6->apache-beam[interactive]) (5.7.1)\n",
            "Requirement already satisfied: decorator in /usr/local/lib/python3.10/dist-packages (from ipython<9,>=8->apache-beam[interactive]) (4.4.2)\n",
            "Collecting jedi>=0.16 (from ipython<9,>=8->apache-beam[interactive])\n",
            "  Using cached jedi-0.19.1-py2.py3-none-any.whl.metadata (22 kB)\n",
            "Requirement already satisfied: prompt-toolkit<3.1.0,>=3.0.41 in /usr/local/lib/python3.10/dist-packages (from ipython<9,>=8->apache-beam[interactive]) (3.0.48)\n",
            "Requirement already satisfied: pygments>=2.4.0 in /usr/local/lib/python3.10/dist-packages (from ipython<9,>=8->apache-beam[interactive]) (2.18.0)\n",
            "Collecting stack-data (from ipython<9,>=8->apache-beam[interactive])\n",
            "  Downloading stack_data-0.6.3-py3-none-any.whl.metadata (18 kB)\n",
            "Collecting traitlets>=5.4.0 (from ipykernel<7,>=6->apache-beam[interactive])\n",
            "  Downloading traitlets-5.14.3-py3-none-any.whl.metadata (10 kB)\n",
            "Requirement already satisfied: exceptiongroup in /usr/local/lib/python3.10/dist-packages (from ipython<9,>=8->apache-beam[interactive]) (1.2.2)\n",
            "Requirement already satisfied: pexpect>4.3 in /usr/local/lib/python3.10/dist-packages (from ipython<9,>=8->apache-beam[interactive]) (4.9.0)\n",
            "Collecting widgetsnbextension~=4.0.12 (from ipywidgets<9,>=8->apache-beam[interactive])\n",
            "  Downloading widgetsnbextension-4.0.13-py3-none-any.whl.metadata (1.6 kB)\n",
            "Requirement already satisfied: jupyterlab-widgets~=3.0.12 in /usr/local/lib/python3.10/dist-packages (from ipywidgets<9,>=8->apache-beam[interactive]) (3.0.13)\n",
            "Requirement already satisfied: tzlocal>=1.2 in /usr/local/lib/python3.10/dist-packages (from js2py<1,>=0.74->apache-beam[interactive]) (5.2)\n",
            "Collecting pyjsparser>=2.5.1 (from js2py<1,>=0.74->apache-beam[interactive])\n",
            "  Downloading pyjsparser-2.7.1.tar.gz (24 kB)\n",
            "  Preparing metadata (setup.py) ... \u001b[?25l\u001b[?25hdone\n",
            "Requirement already satisfied: attrs>=22.2.0 in /usr/local/lib/python3.10/dist-packages (from jsonschema<5.0.0,>=4.0.0->apache-beam[interactive]) (24.2.0)\n",
            "Requirement already satisfied: jsonschema-specifications>=2023.03.6 in /usr/local/lib/python3.10/dist-packages (from jsonschema<5.0.0,>=4.0.0->apache-beam[interactive]) (2023.12.1)\n",
            "Requirement already satisfied: referencing>=0.28.4 in /usr/local/lib/python3.10/dist-packages (from jsonschema<5.0.0,>=4.0.0->apache-beam[interactive]) (0.35.1)\n",
            "Requirement already satisfied: rpds-py>=0.7.1 in /usr/local/lib/python3.10/dist-packages (from jsonschema<5.0.0,>=4.0.0->apache-beam[interactive]) (0.20.0)\n",
            "Requirement already satisfied: lxml in /usr/local/lib/python3.10/dist-packages (from nbconvert<8,>=6.2.0->apache-beam[interactive]) (4.9.4)\n",
            "Requirement already satisfied: beautifulsoup4 in /usr/local/lib/python3.10/dist-packages (from nbconvert<8,>=6.2.0->apache-beam[interactive]) (4.12.3)\n",
            "Requirement already satisfied: bleach in /usr/local/lib/python3.10/dist-packages (from nbconvert<8,>=6.2.0->apache-beam[interactive]) (6.1.0)\n",
            "Requirement already satisfied: defusedxml in /usr/local/lib/python3.10/dist-packages (from nbconvert<8,>=6.2.0->apache-beam[interactive]) (0.7.1)\n",
            "Requirement already satisfied: entrypoints>=0.2.2 in /usr/local/lib/python3.10/dist-packages (from nbconvert<8,>=6.2.0->apache-beam[interactive]) (0.4)\n",
            "Requirement already satisfied: jinja2>=3.0 in /usr/local/lib/python3.10/dist-packages (from nbconvert<8,>=6.2.0->apache-beam[interactive]) (3.1.4)\n",
            "Requirement already satisfied: jupyterlab-pygments in /usr/local/lib/python3.10/dist-packages (from nbconvert<8,>=6.2.0->apache-beam[interactive]) (0.3.0)\n",
            "Requirement already satisfied: MarkupSafe>=2.0 in /usr/local/lib/python3.10/dist-packages (from nbconvert<8,>=6.2.0->apache-beam[interactive]) (2.1.5)\n",
            "Requirement already satisfied: mistune<2,>=0.8.1 in /usr/local/lib/python3.10/dist-packages (from nbconvert<8,>=6.2.0->apache-beam[interactive]) (0.8.4)\n",
            "Requirement already satisfied: nbclient>=0.5.0 in /usr/local/lib/python3.10/dist-packages (from nbconvert<8,>=6.2.0->apache-beam[interactive]) (0.10.0)\n",
            "Requirement already satisfied: pandocfilters>=1.4.1 in /usr/local/lib/python3.10/dist-packages (from nbconvert<8,>=6.2.0->apache-beam[interactive]) (1.5.1)\n",
            "Requirement already satisfied: tinycss2 in /usr/local/lib/python3.10/dist-packages (from nbconvert<8,>=6.2.0->apache-beam[interactive]) (1.3.0)\n",
            "Requirement already satisfied: fastjsonschema>=2.15 in /usr/local/lib/python3.10/dist-packages (from nbformat<6,>=5.0.5->apache-beam[interactive]) (2.20.0)\n",
            "Requirement already satisfied: tzdata>=2022.7 in /usr/local/lib/python3.10/dist-packages (from pandas!=1.5.0,!=1.5.1,<2.3,>=1.4.3->apache-beam[interactive]) (2024.2)\n",
            "Collecting dnspython<3.0.0,>=1.16.0 (from pymongo<5.0.0,>=3.8.0->apache-beam[interactive])\n",
            "  Downloading dnspython-2.7.0-py3-none-any.whl.metadata (5.8 kB)\n",
            "Requirement already satisfied: async-timeout>=4.0.3 in /usr/local/lib/python3.10/dist-packages (from redis<6,>=5.0.0->apache-beam[interactive]) (4.0.3)\n",
            "Requirement already satisfied: charset-normalizer<4,>=2 in /usr/local/lib/python3.10/dist-packages (from requests<3.0.0,>=2.24.0->apache-beam[interactive]) (3.3.2)\n",
            "Requirement already satisfied: idna<4,>=2.5 in /usr/local/lib/python3.10/dist-packages (from requests<3.0.0,>=2.24.0->apache-beam[interactive]) (3.10)\n",
            "Requirement already satisfied: urllib3<3,>=1.21.1 in /usr/local/lib/python3.10/dist-packages (from requests<3.0.0,>=2.24.0->apache-beam[interactive]) (2.2.3)\n",
            "Requirement already satisfied: certifi>=2017.4.17 in /usr/local/lib/python3.10/dist-packages (from requests<3.0.0,>=2.24.0->apache-beam[interactive]) (2024.8.30)\n",
            "Requirement already satisfied: googleapis-common-protos<2.0.dev0,>=1.56.2 in /usr/local/lib/python3.10/dist-packages (from google-api-core!=2.0.*,!=2.1.*,!=2.10.*,!=2.2.*,!=2.3.*,!=2.4.*,!=2.5.*,!=2.6.*,!=2.7.*,!=2.8.*,!=2.9.*,<3.0.0dev,>=1.34.1->google-api-core[grpc]!=2.0.*,!=2.1.*,!=2.10.*,!=2.2.*,!=2.3.*,!=2.4.*,!=2.5.*,!=2.6.*,!=2.7.*,!=2.8.*,!=2.9.*,<3.0.0dev,>=1.34.1->google-cloud-dataproc<6,>=5.0.0->apache-beam[interactive]) (1.65.0)\n",
            "Requirement already satisfied: grpcio-status<2.0.dev0,>=1.33.2 in /usr/local/lib/python3.10/dist-packages (from google-api-core[grpc]!=2.0.*,!=2.1.*,!=2.10.*,!=2.2.*,!=2.3.*,!=2.4.*,!=2.5.*,!=2.6.*,!=2.7.*,!=2.8.*,!=2.9.*,<3.0.0dev,>=1.34.1->google-cloud-dataproc<6,>=5.0.0->apache-beam[interactive]) (1.48.2)\n",
            "Requirement already satisfied: cachetools<6.0,>=2.0.0 in /usr/local/lib/python3.10/dist-packages (from google-auth!=2.24.0,!=2.25.0,<3.0.0dev,>=2.14.1->google-cloud-dataproc<6,>=5.0.0->apache-beam[interactive]) (5.5.0)\n",
            "Requirement already satisfied: pyasn1-modules>=0.2.1 in /usr/local/lib/python3.10/dist-packages (from google-auth!=2.24.0,!=2.25.0,<3.0.0dev,>=2.14.1->google-cloud-dataproc<6,>=5.0.0->apache-beam[interactive]) (0.4.1)\n",
            "Requirement already satisfied: rsa<5,>=3.1.4 in /usr/local/lib/python3.10/dist-packages (from google-auth!=2.24.0,!=2.25.0,<3.0.0dev,>=2.14.1->google-cloud-dataproc<6,>=5.0.0->apache-beam[interactive]) (4.9)\n",
            "Requirement already satisfied: parso<0.9.0,>=0.8.3 in /usr/local/lib/python3.10/dist-packages (from jedi>=0.16->ipython<9,>=8->apache-beam[interactive]) (0.8.4)\n",
            "Requirement already satisfied: platformdirs>=2.5 in /usr/local/lib/python3.10/dist-packages (from jupyter-core!=5.0.*,>=4.12->ipykernel<7,>=6->apache-beam[interactive]) (4.3.6)\n",
            "Requirement already satisfied: ptyprocess>=0.5 in /usr/local/lib/python3.10/dist-packages (from pexpect>4.3->ipython<9,>=8->apache-beam[interactive]) (0.7.0)\n",
            "Requirement already satisfied: wcwidth in /usr/local/lib/python3.10/dist-packages (from prompt-toolkit<3.1.0,>=3.0.41->ipython<9,>=8->apache-beam[interactive]) (0.2.13)\n",
            "Requirement already satisfied: soupsieve>1.2 in /usr/local/lib/python3.10/dist-packages (from beautifulsoup4->nbconvert<8,>=6.2.0->apache-beam[interactive]) (2.6)\n",
            "Requirement already satisfied: webencodings in /usr/local/lib/python3.10/dist-packages (from bleach->nbconvert<8,>=6.2.0->apache-beam[interactive]) (0.5.1)\n",
            "Collecting executing>=1.2.0 (from stack-data->ipython<9,>=8->apache-beam[interactive])\n",
            "  Downloading executing-2.1.0-py2.py3-none-any.whl.metadata (8.9 kB)\n",
            "Collecting asttokens>=2.1.0 (from stack-data->ipython<9,>=8->apache-beam[interactive])\n",
            "  Downloading asttokens-2.4.1-py2.py3-none-any.whl.metadata (5.2 kB)\n",
            "Collecting pure-eval (from stack-data->ipython<9,>=8->apache-beam[interactive])\n",
            "  Downloading pure_eval-0.2.3-py3-none-any.whl.metadata (6.3 kB)\n",
            "Requirement already satisfied: pyasn1<0.7.0,>=0.4.6 in /usr/local/lib/python3.10/dist-packages (from pyasn1-modules>=0.2.1->google-auth!=2.24.0,!=2.25.0,<3.0.0dev,>=2.14.1->google-cloud-dataproc<6,>=5.0.0->apache-beam[interactive]) (0.6.1)\n",
            "Downloading facets_overview-1.1.1-py2.py3-none-any.whl (22 kB)\n",
            "Downloading fastavro-1.9.7-cp310-cp310-manylinux_2_17_x86_64.manylinux2014_x86_64.whl (3.1 MB)\n",
            "\u001b[2K   \u001b[90m━━━━━━━━━━━━━━━━━━━━━━━━━━━━━━━━━━━━━━━━\u001b[0m \u001b[32m3.1/3.1 MB\u001b[0m \u001b[31m34.5 MB/s\u001b[0m eta \u001b[36m0:00:00\u001b[0m\n",
            "\u001b[?25hDownloading fasteners-0.19-py3-none-any.whl (18 kB)\n",
            "Downloading google_cloud_dataproc-5.13.0-py2.py3-none-any.whl (417 kB)\n",
            "\u001b[2K   \u001b[90m━━━━━━━━━━━━━━━━━━━━━━━━━━━━━━━━━━━━━━━━\u001b[0m \u001b[32m417.8/417.8 kB\u001b[0m \u001b[31m25.4 MB/s\u001b[0m eta \u001b[36m0:00:00\u001b[0m\n",
            "\u001b[?25hDownloading ipykernel-6.29.5-py3-none-any.whl (117 kB)\n",
            "\u001b[2K   \u001b[90m━━━━━━━━━━━━━━━━━━━━━━━━━━━━━━━━━━━━━━━━\u001b[0m \u001b[32m117.2/117.2 kB\u001b[0m \u001b[31m8.7 MB/s\u001b[0m eta \u001b[36m0:00:00\u001b[0m\n",
            "\u001b[?25hDownloading ipython-8.28.0-py3-none-any.whl (819 kB)\n",
            "\u001b[2K   \u001b[90m━━━━━━━━━━━━━━━━━━━━━━━━━━━━━━━━━━━━━━━━\u001b[0m \u001b[32m819.5/819.5 kB\u001b[0m \u001b[31m33.3 MB/s\u001b[0m eta \u001b[36m0:00:00\u001b[0m\n",
            "\u001b[?25hDownloading ipywidgets-8.1.5-py3-none-any.whl (139 kB)\n",
            "\u001b[2K   \u001b[90m━━━━━━━━━━━━━━━━━━━━━━━━━━━━━━━━━━━━━━━━\u001b[0m \u001b[32m139.8/139.8 kB\u001b[0m \u001b[31m9.0 MB/s\u001b[0m eta \u001b[36m0:00:00\u001b[0m\n",
            "\u001b[?25hDownloading Js2Py-0.74-py3-none-any.whl (1.0 MB)\n",
            "\u001b[2K   \u001b[90m━━━━━━━━━━━━━━━━━━━━━━━━━━━━━━━━━━━━━━━━\u001b[0m \u001b[32m1.0/1.0 MB\u001b[0m \u001b[31m35.0 MB/s\u001b[0m eta \u001b[36m0:00:00\u001b[0m\n",
            "\u001b[?25hDownloading objsize-0.7.0-py3-none-any.whl (11 kB)\n",
            "Downloading orjson-3.10.7-cp310-cp310-manylinux_2_17_x86_64.manylinux2014_x86_64.whl (141 kB)\n",
            "\u001b[2K   \u001b[90m━━━━━━━━━━━━━━━━━━━━━━━━━━━━━━━━━━━━━━━━\u001b[0m \u001b[32m141.9/141.9 kB\u001b[0m \u001b[31m9.4 MB/s\u001b[0m eta \u001b[36m0:00:00\u001b[0m\n",
            "\u001b[?25hDownloading pydot-1.4.2-py2.py3-none-any.whl (21 kB)\n",
            "Downloading pymongo-4.10.1-cp310-cp310-manylinux_2_17_x86_64.manylinux2014_x86_64.whl (1.4 MB)\n",
            "\u001b[2K   \u001b[90m━━━━━━━━━━━━━━━━━━━━━━━━━━━━━━━━━━━━━━━━\u001b[0m \u001b[32m1.4/1.4 MB\u001b[0m \u001b[31m39.6 MB/s\u001b[0m eta \u001b[36m0:00:00\u001b[0m\n",
            "\u001b[?25hDownloading redis-5.1.1-py3-none-any.whl (261 kB)\n",
            "\u001b[2K   \u001b[90m━━━━━━━━━━━━━━━━━━━━━━━━━━━━━━━━━━━━━━━━\u001b[0m \u001b[32m261.3/261.3 kB\u001b[0m \u001b[31m14.0 MB/s\u001b[0m eta \u001b[36m0:00:00\u001b[0m\n",
            "\u001b[?25hDownloading zstandard-0.23.0-cp310-cp310-manylinux_2_17_x86_64.manylinux2014_x86_64.whl (5.4 MB)\n",
            "\u001b[2K   \u001b[90m━━━━━━━━━━━━━━━━━━━━━━━━━━━━━━━━━━━━━━━━\u001b[0m \u001b[32m5.4/5.4 MB\u001b[0m \u001b[31m64.5 MB/s\u001b[0m eta \u001b[36m0:00:00\u001b[0m\n",
            "\u001b[?25hDownloading apache_beam-2.59.0-cp310-cp310-manylinux_2_17_x86_64.manylinux2014_x86_64.whl (15.6 MB)\n",
            "\u001b[2K   \u001b[90m━━━━━━━━━━━━━━━━━━━━━━━━━━━━━━━━━━━━━━━━\u001b[0m \u001b[32m15.6/15.6 MB\u001b[0m \u001b[31m54.0 MB/s\u001b[0m eta \u001b[36m0:00:00\u001b[0m\n",
            "\u001b[?25hDownloading comm-0.2.2-py3-none-any.whl (7.2 kB)\n",
            "Downloading dnspython-2.7.0-py3-none-any.whl (313 kB)\n",
            "\u001b[2K   \u001b[90m━━━━━━━━━━━━━━━━━━━━━━━━━━━━━━━━━━━━━━━━\u001b[0m \u001b[32m313.6/313.6 kB\u001b[0m \u001b[31m20.6 MB/s\u001b[0m eta \u001b[36m0:00:00\u001b[0m\n",
            "\u001b[?25hUsing cached jedi-0.19.1-py2.py3-none-any.whl (1.6 MB)\n",
            "Downloading traitlets-5.14.3-py3-none-any.whl (85 kB)\n",
            "\u001b[2K   \u001b[90m━━━━━━━━━━━━━━━━━━━━━━━━━━━━━━━━━━━━━━━━\u001b[0m \u001b[32m85.4/85.4 kB\u001b[0m \u001b[31m5.8 MB/s\u001b[0m eta \u001b[36m0:00:00\u001b[0m\n",
            "\u001b[?25hDownloading widgetsnbextension-4.0.13-py3-none-any.whl (2.3 MB)\n",
            "\u001b[2K   \u001b[90m━━━━━━━━━━━━━━━━━━━━━━━━━━━━━━━━━━━━━━━━\u001b[0m \u001b[32m2.3/2.3 MB\u001b[0m \u001b[31m61.1 MB/s\u001b[0m eta \u001b[36m0:00:00\u001b[0m\n",
            "\u001b[?25hDownloading stack_data-0.6.3-py3-none-any.whl (24 kB)\n",
            "Downloading asttokens-2.4.1-py2.py3-none-any.whl (27 kB)\n",
            "Downloading executing-2.1.0-py2.py3-none-any.whl (25 kB)\n",
            "Downloading pure_eval-0.2.3-py3-none-any.whl (11 kB)\n",
            "Building wheels for collected packages: crcmod, dill, hdfs, timeloop, pyjsparser, docopt\n",
            "  Building wheel for crcmod (setup.py) ... \u001b[?25l\u001b[?25hdone\n",
            "  Created wheel for crcmod: filename=crcmod-1.7-cp310-cp310-linux_x86_64.whl size=31407 sha256=2a0b97a66b49dead253d90d0885a02e5e123ccc675d3c9f557a26b12e397b051\n",
            "  Stored in directory: /root/.cache/pip/wheels/85/4c/07/72215c529bd59d67e3dac29711d7aba1b692f543c808ba9e86\n",
            "  Building wheel for dill (setup.py) ... \u001b[?25l\u001b[?25hdone\n",
            "  Created wheel for dill: filename=dill-0.3.1.1-py3-none-any.whl size=78542 sha256=072b7ae3923efbe4a9ca95555ff5d0155b9d0499a856919a1761c68a91f77a3f\n",
            "  Stored in directory: /root/.cache/pip/wheels/ea/e2/86/64980d90e297e7bf2ce588c2b96e818f5399c515c4bb8a7e4f\n",
            "  Building wheel for hdfs (setup.py) ... \u001b[?25l\u001b[?25hdone\n",
            "  Created wheel for hdfs: filename=hdfs-2.7.3-py3-none-any.whl size=34325 sha256=bdf2c4b8b946293a36d0811acae610501e819c299818faa65ff164d3a4d99dda\n",
            "  Stored in directory: /root/.cache/pip/wheels/e5/8d/b6/99c1c0a3ac5788c866b0ecd3f48b0134a5910e6ed26011800b\n",
            "  Building wheel for timeloop (setup.py) ... \u001b[?25l\u001b[?25hdone\n",
            "  Created wheel for timeloop: filename=timeloop-1.0.2-py3-none-any.whl size=3703 sha256=788015e3a71bd5eeec2b891f227a90c16068294ffc972d9d2ef09d21afdec072\n",
            "  Stored in directory: /root/.cache/pip/wheels/8b/df/32/f72b9fd897c185cd70103331f70e4cb66e3df1de24bd476548\n",
            "  Building wheel for pyjsparser (setup.py) ... \u001b[?25l\u001b[?25hdone\n",
            "  Created wheel for pyjsparser: filename=pyjsparser-2.7.1-py3-none-any.whl size=25983 sha256=c0304b3b96135385d0fde0e16ede1f1a477d06535bf5bd196f912759b6c4a247\n",
            "  Stored in directory: /root/.cache/pip/wheels/5e/81/26/5956478df303e2bf5a85a5df595bb307bd25948a4bab69f7c7\n",
            "  Building wheel for docopt (setup.py) ... \u001b[?25l\u001b[?25hdone\n",
            "  Created wheel for docopt: filename=docopt-0.6.2-py2.py3-none-any.whl size=13704 sha256=28c3984bde6e066b9406914b125328b157d4dff2428b8f787dd671ef2656e1a7\n",
            "  Stored in directory: /root/.cache/pip/wheels/fc/ab/d4/5da2067ac95b36618c629a5f93f809425700506f72c9732fac\n",
            "Successfully built crcmod dill hdfs timeloop pyjsparser docopt\n",
            "Installing collected packages: timeloop, pyjsparser, pure-eval, docopt, crcmod, zstandard, widgetsnbextension, traitlets, redis, pydot, orjson, objsize, js2py, jedi, fasteners, fastavro, executing, dnspython, dill, asttokens, stack-data, pymongo, hdfs, comm, ipython, facets-overview, ipywidgets, ipykernel, apache-beam, google-cloud-dataproc\n",
            "  Attempting uninstall: widgetsnbextension\n",
            "    Found existing installation: widgetsnbextension 3.6.9\n",
            "    Uninstalling widgetsnbextension-3.6.9:\n",
            "      Successfully uninstalled widgetsnbextension-3.6.9\n",
            "  Attempting uninstall: traitlets\n",
            "    Found existing installation: traitlets 5.7.1\n",
            "    Uninstalling traitlets-5.7.1:\n",
            "      Successfully uninstalled traitlets-5.7.1\n",
            "  Attempting uninstall: pydot\n",
            "    Found existing installation: pydot 3.0.2\n",
            "    Uninstalling pydot-3.0.2:\n",
            "      Successfully uninstalled pydot-3.0.2\n",
            "  Attempting uninstall: ipython\n",
            "    Found existing installation: ipython 7.34.0\n",
            "    Uninstalling ipython-7.34.0:\n",
            "      Successfully uninstalled ipython-7.34.0\n",
            "  Attempting uninstall: ipywidgets\n",
            "    Found existing installation: ipywidgets 7.7.1\n",
            "    Uninstalling ipywidgets-7.7.1:\n",
            "      Successfully uninstalled ipywidgets-7.7.1\n",
            "  Attempting uninstall: ipykernel\n",
            "    Found existing installation: ipykernel 5.5.6\n",
            "    Uninstalling ipykernel-5.5.6:\n",
            "      Successfully uninstalled ipykernel-5.5.6\n",
            "\u001b[31mERROR: pip's dependency resolver does not currently take into account all the packages that are installed. This behaviour is the source of the following dependency conflicts.\n",
            "google-colab 1.0.0 requires ipykernel==5.5.6, but you have ipykernel 6.29.5 which is incompatible.\n",
            "google-colab 1.0.0 requires ipython==7.34.0, but you have ipython 8.28.0 which is incompatible.\u001b[0m\u001b[31m\n",
            "\u001b[0mSuccessfully installed apache-beam-2.59.0 asttokens-2.4.1 comm-0.2.2 crcmod-1.7 dill-0.3.1.1 dnspython-2.7.0 docopt-0.6.2 executing-2.1.0 facets-overview-1.1.1 fastavro-1.9.7 fasteners-0.19 google-cloud-dataproc-5.13.0 hdfs-2.7.3 ipykernel-6.29.5 ipython-8.28.0 ipywidgets-8.1.5 jedi-0.19.1 js2py-0.74 objsize-0.7.0 orjson-3.10.7 pure-eval-0.2.3 pydot-1.4.2 pyjsparser-2.7.1 pymongo-4.10.1 redis-5.1.1 stack-data-0.6.3 timeloop-1.0.2 traitlets-5.14.3 widgetsnbextension-4.0.13 zstandard-0.23.0\n"
          ]
        },
        {
          "output_type": "display_data",
          "data": {
            "application/vnd.colab-display-data+json": {
              "pip_warning": {
                "packages": [
                  "IPython",
                  "google"
                ]
              },
              "id": "37ef3c9aa5214c68b263816a2577874c"
            }
          },
          "metadata": {}
        }
      ],
      "source": [
        "pip install apache-beam[interactive]"
      ]
    },
    {
      "cell_type": "markdown",
      "source": [
        "## Template Básico\n",
        "O uso do | é para intercalar funções"
      ],
      "metadata": {
        "id": "mc4Lkg3VX4iM"
      }
    },
    {
      "cell_type": "code",
      "source": [
        "# beam é convenção igual o pd do pandas\n",
        "import apache_beam as beam\n",
        "\n",
        "p1 = beam.Pipeline()\n",
        "\n",
        "# Colocando Pipeline em um objeto\n",
        "Pcollection = (\n",
        "p1\n",
        "  |\n",
        ")\n",
        "# Iniciar uma execução até finalizar\n",
        "p1.run()"
      ],
      "metadata": {
        "colab": {
          "base_uri": "https://localhost:8080/",
          "height": 106
        },
        "id": "WlnNgAQXXV3z",
        "outputId": "39456299-7c48-4cfc-b74a-256e7e035a07"
      },
      "execution_count": 2,
      "outputs": [
        {
          "output_type": "error",
          "ename": "SyntaxError",
          "evalue": "invalid syntax (<ipython-input-2-b52db82b21bf>, line 10)",
          "traceback": [
            "\u001b[0;36m  File \u001b[0;32m\"<ipython-input-2-b52db82b21bf>\"\u001b[0;36m, line \u001b[0;32m10\u001b[0m\n\u001b[0;31m    )\u001b[0m\n\u001b[0m    ^\u001b[0m\n\u001b[0;31mSyntaxError\u001b[0m\u001b[0;31m:\u001b[0m invalid syntax\n"
          ]
        }
      ]
    },
    {
      "cell_type": "markdown",
      "source": [
        "# Aula 3.2"
      ],
      "metadata": {
        "id": "Sm9T42SbYfGq"
      }
    },
    {
      "cell_type": "markdown",
      "source": [
        "## Impartando beam e usando read transforms e beamcreations"
      ],
      "metadata": {
        "id": "0-RntDqjYhrC"
      }
    },
    {
      "cell_type": "code",
      "source": [
        "import apache_beam as beam"
      ],
      "metadata": {
        "id": "emS-c5pvak30"
      },
      "execution_count": 3,
      "outputs": []
    },
    {
      "cell_type": "code",
      "source": [
        "p1 = beam.Pipeline()\n",
        "\n",
        "# Colocando Pipeline em um objeto\n",
        "voos = (\n",
        "p1\n",
        "         # ler arquivo e excluir cabeçalho\n",
        "         # esses primeiros passos \"\" dentro das aspas duplas nomeia cada etapa.\n",
        "  | \"Importa Dados\" >> beam.io.ReadFromText(\"/content/voos_sample.csv\",skip_header_lines=1)\n",
        "  # ReadFromParquet -> Serve para arquivos Parquet\n",
        "  # ReadFromBigQuery para ler dados do BQ\n",
        "  | \"Separar por Vírgulas\" >> beam.Map(lambda record: record.split(','))\n",
        "  | \"Mostrar Resultados\" >> beam.Map(print)\n",
        ")\n",
        "# Iniciar uma execução até finalizar\n",
        "p1.run()"
      ],
      "metadata": {
        "colab": {
          "base_uri": "https://localhost:8080/",
          "height": 364
        },
        "id": "Tvn1AZYeYcsE",
        "outputId": "320adf21-1381-43c9-b2a9-ae9cc906c173"
      },
      "execution_count": 5,
      "outputs": [
        {
          "output_type": "display_data",
          "data": {
            "application/javascript": [
              "\n",
              "        if (typeof window.interactive_beam_jquery == 'undefined') {\n",
              "          var jqueryScript = document.createElement('script');\n",
              "          jqueryScript.src = 'https://code.jquery.com/jquery-3.4.1.slim.min.js';\n",
              "          jqueryScript.type = 'text/javascript';\n",
              "          jqueryScript.onload = function() {\n",
              "            var datatableScript = document.createElement('script');\n",
              "            datatableScript.src = 'https://cdn.datatables.net/1.10.20/js/jquery.dataTables.min.js';\n",
              "            datatableScript.type = 'text/javascript';\n",
              "            datatableScript.onload = function() {\n",
              "              window.interactive_beam_jquery = jQuery.noConflict(true);\n",
              "              window.interactive_beam_jquery(document).ready(function($){\n",
              "                \n",
              "              });\n",
              "            }\n",
              "            document.head.appendChild(datatableScript);\n",
              "          };\n",
              "          document.head.appendChild(jqueryScript);\n",
              "        } else {\n",
              "          window.interactive_beam_jquery(document).ready(function($){\n",
              "            \n",
              "          });\n",
              "        }"
            ]
          },
          "metadata": {}
        },
        {
          "output_type": "stream",
          "name": "stdout",
          "text": [
            "['2019-04-27', '19805', '2', 'LAX', 'JFK', '944', '14', '1736', '-29', '269', '2475', '2']\n",
            "['2019-04-27', '19805', '3', 'JFK', 'LAX', '1224', '-6', '1614', '39', '371', '2475', '3']\n",
            "['2019-04-27', '19805', '4', 'LAX', 'JFK', '1240', '25', '2028', '-27', '264', '2475', '4']\n",
            "['2019-04-27', '19805', '5', 'DFW', 'HNL', '1300', '-5', '1650', '15', '510', '3784', '5']\n",
            "['2019-04-27', '19805', '6', 'OGG', 'DFW', '1901', '126', '640', '95', '385', '3711', '6']\n",
            "['2019-04-27', '19805', '7', 'DFW', 'OGG', '1410', '125', '1743', '138', '497', '3711', '7']\n",
            "['2019-04-27', '19805', '8', 'HNL', 'DFW', '1659', '4', '458', '-22', '398', '3784', '8']\n",
            "['2019-04-27', '19805', '9', 'JFK', 'LAX', '648', '-7', '1029', '19', '365', '2475', '9']\n",
            "['2019-04-27', '19805', '10', 'LAX', 'JFK', '2156', '21', '556', '1', '265', '2475', '10']\n",
            "['2019-04-27', '19805', '12', 'LAX', 'JFK', '1113', '-2', '1910', '-40', '267', '2475', '11']\n",
            "['2019-04-27', '19805', '14', 'OGG', 'LAX', '2235', '5', '618', '-17', '270', '2486', '12']\n",
            "['2019-04-27', '19805', '15', 'BOS', 'ORD', '611', '-9', '756', '-19', '129', '867', '13']\n",
            "['2019-04-27', '19805', '16', 'SFO', 'JFK', '1312', '17', '2107', '-33', '268', '2586', '14']\n",
            "['2019-04-27', '19805', '17', 'ATL', 'MIA', '630', '-5', '813', '-17', '83', '594', '15']\n",
            "['2019-04-27', '19805', '18', 'SFO', 'JFK', '22', '112', '833', '88', '288', '2586', '16']\n",
            "['2019-04-27', '19805', '19', 'JFK', 'LAX', '1024', '-6', '1353', '18', '359', '2475', '17']\n",
            "['2019-04-27', '19805', '20', 'SFO', 'JFK', '1715', '135', '130', '120', '277', '2586', '18']\n",
            "['2019-04-27', '19805', '21', 'JFK', 'LAX', '1906', '-4', '2246', '16', '359', '2475', '19']\n",
            "['2019-04-27', '19805', '22', 'LAX', 'JFK', '1458', '-2', '2336', '11', '272', '2475', '20']\n"
          ]
        },
        {
          "output_type": "execute_result",
          "data": {
            "text/plain": [
              "<apache_beam.runners.portability.fn_api_runner.fn_runner.RunnerResult at 0x799590368670>"
            ]
          },
          "metadata": {},
          "execution_count": 5
        }
      ]
    },
    {
      "cell_type": "code",
      "source": [
        "p1 = beam.Pipeline()\n",
        "\n",
        "# Exemplo de Criar Tupla, ótimo para fazer depara ou loc\n",
        "p1 | \"Tupla\" >> beam.Create( [ (\"Luciano\", 29), (\"Raquel\",32)] ) | \"Print Tupla\" >> beam.Map(print)\n",
        "# Exemplo de Criar Lista, ótimo para fazer depara ou loc\n",
        "p1 | \"Lista\" >> beam.Create( [ 1,2,3]) | \"Print Lista\" >> beam.Map(print)\n",
        "p1.run()"
      ],
      "metadata": {
        "colab": {
          "base_uri": "https://localhost:8080/"
        },
        "id": "ZBhYR569bRLF",
        "outputId": "d10a2ff0-f98e-4fc9-d873-ca45544311a4"
      },
      "execution_count": 7,
      "outputs": [
        {
          "output_type": "stream",
          "name": "stdout",
          "text": [
            "1\n",
            "2\n",
            "3\n"
          ]
        },
        {
          "output_type": "execute_result",
          "data": {
            "text/plain": [
              "<apache_beam.runners.portability.fn_api_runner.fn_runner.RunnerResult at 0x7995be51ce20>"
            ]
          },
          "metadata": {},
          "execution_count": 7
        }
      ]
    },
    {
      "cell_type": "markdown",
      "source": [
        "# Aula 3.3"
      ],
      "metadata": {
        "id": "Ko6rII50ce37"
      }
    },
    {
      "cell_type": "markdown",
      "source": [
        "## Igual a aula anterior, porem gravando resultados"
      ],
      "metadata": {
        "id": "zs0_MJ3tclS0"
      }
    },
    {
      "cell_type": "code",
      "source": [
        "p1 = beam.Pipeline()\n",
        "\n",
        "# Colocando Pipeline em um objeto\n",
        "voos = (\n",
        "p1\n",
        "         # ler arquivo e excluir cabeçalho\n",
        "         # esses primeiros passos \"\" dentro das aspas duplas nomeia cada etapa.\n",
        "  | \"Importa Dados\" >> beam.io.ReadFromText(\"/content/voos_sample.csv\",skip_header_lines=1)\n",
        "  # ReadFromParquet -> Serve para arquivos Parquet\n",
        "  # ReadFromBigQuery para ler dados do BQ\n",
        "  | \"Separar por Vírgulas\" >> beam.Map(lambda record: record.split(','))\n",
        "  | \"Gravando Resultados\" >> beam.io.WriteToText(\"/content/voos.txt\")\n",
        ")\n",
        "# Iniciar uma execução até finalizar\n",
        "p1.run()"
      ],
      "metadata": {
        "colab": {
          "base_uri": "https://localhost:8080/"
        },
        "id": "GG_m77eKcTlL",
        "outputId": "485aed1e-24a7-4b05-aa83-683bc3e80a73"
      },
      "execution_count": 8,
      "outputs": [
        {
          "output_type": "execute_result",
          "data": {
            "text/plain": [
              "<apache_beam.runners.portability.fn_api_runner.fn_runner.RunnerResult at 0x7995872b82b0>"
            ]
          },
          "metadata": {},
          "execution_count": 8
        }
      ]
    },
    {
      "cell_type": "markdown",
      "source": [
        "# Aula 3.4"
      ],
      "metadata": {
        "id": "Y3BT13kJd4ND"
      }
    },
    {
      "cell_type": "markdown",
      "source": [
        "## Comando Map e FlatMap"
      ],
      "metadata": {
        "id": "-t5Fq_GJd6uD"
      }
    },
    {
      "cell_type": "code",
      "source": [
        "p1 = beam.Pipeline()\n",
        "\n",
        "# Colocando Pipeline em um objeto\n",
        "voos = (\n",
        "p1\n",
        "  | \"Importa Dados\" >> beam.io.ReadFromText(\"/content/voos_sample.csv\",skip_header_lines=1)\n",
        "         # O uso do Map nasicamente indica que realizara uma função em cada registros.\n",
        "  | \"Separar por Vírgulas\" >> beam.Map(lambda record: record.split(','))\n",
        "  | \"Gravando Resultados\" >> beam.io.WriteToText(\"/content/voos.txt\")\n",
        ")\n",
        "# Iniciar uma execução até finalizar\n",
        "p1.run()"
      ],
      "metadata": {
        "id": "NLHg49Jidmcc"
      },
      "execution_count": null,
      "outputs": []
    },
    {
      "cell_type": "code",
      "source": [
        "Collection = (\n",
        "    p1\n",
        "    | beam.io.ReadFromText(\"/content/poema.txt\")\n",
        "    # Enviando dados para uma coleção, cada deliminator sera unico.\n",
        "    | beam.FlatMap(lambda record: record.split(' '))\n",
        "    | beam.io.WriteToText(\"/content/resultado.txt\")\n",
        ")\n",
        "\n",
        "p1.run()"
      ],
      "metadata": {
        "colab": {
          "base_uri": "https://localhost:8080/"
        },
        "id": "PpLfXITKeYA6",
        "outputId": "a1e420fb-e256-42f1-c134-110f0c24a4fd"
      },
      "execution_count": 10,
      "outputs": [
        {
          "output_type": "stream",
          "name": "stderr",
          "text": [
            "WARNING:apache_beam.io.filebasedsink:Deleting 1 existing files in target path matching: -*-of-%(num_shards)05d\n"
          ]
        },
        {
          "output_type": "execute_result",
          "data": {
            "text/plain": [
              "<apache_beam.runners.portability.fn_api_runner.fn_runner.RunnerResult at 0x799586ea3b20>"
            ]
          },
          "metadata": {},
          "execution_count": 10
        }
      ]
    },
    {
      "cell_type": "markdown",
      "source": [
        "# Aula 3.5"
      ],
      "metadata": {
        "id": "FQ4h-4FffJur"
      }
    },
    {
      "cell_type": "markdown",
      "source": [
        "## Beam.Filter\n",
        "Filtrando Lista e Funções"
      ],
      "metadata": {
        "id": "dKUXf8MWfLpj"
      }
    },
    {
      "cell_type": "code",
      "source": [
        "p1 = beam.Pipeline()\n",
        "\n",
        "voos = (\n",
        "    p1\n",
        "    | \"Importando Dados\" >> beam.io.ReadFromText(\"/content/voos_sample.csv\",skip_header_lines=1)\n",
        "    | \"Separando as Colunas por Virgula\" >> beam.Map(lambda record: record.split(','))\n",
        "    | \"Filtrando Linhas Vazias\" >> beam.Filter(lambda record: record[3] == 'LAX')\n",
        "    | \"Mostrar Resultados\" >> beam.Map(print)\n",
        ")\n",
        "\n",
        "p1.run()"
      ],
      "metadata": {
        "colab": {
          "base_uri": "https://localhost:8080/"
        },
        "id": "AtF-RP-Se_xk",
        "outputId": "2d1379bc-5039-4656-a6f8-7b98f4565e29"
      },
      "execution_count": 11,
      "outputs": [
        {
          "output_type": "stream",
          "name": "stdout",
          "text": [
            "['2019-04-27', '19805', '2', 'LAX', 'JFK', '944', '14', '1736', '-29', '269', '2475', '2']\n",
            "['2019-04-27', '19805', '4', 'LAX', 'JFK', '1240', '25', '2028', '-27', '264', '2475', '4']\n",
            "['2019-04-27', '19805', '10', 'LAX', 'JFK', '2156', '21', '556', '1', '265', '2475', '10']\n",
            "['2019-04-27', '19805', '12', 'LAX', 'JFK', '1113', '-2', '1910', '-40', '267', '2475', '11']\n",
            "['2019-04-27', '19805', '22', 'LAX', 'JFK', '1458', '-2', '2336', '11', '272', '2475', '20']\n"
          ]
        },
        {
          "output_type": "execute_result",
          "data": {
            "text/plain": [
              "<apache_beam.runners.portability.fn_api_runner.fn_runner.RunnerResult at 0x799586e3b2e0>"
            ]
          },
          "metadata": {},
          "execution_count": 11
        }
      ]
    },
    {
      "cell_type": "code",
      "source": [
        "# Criando Lista para filtragem via função\n",
        "palavras = ['quatro','um']\n",
        "\n",
        "# Criando Função para encontrar palavras conforme a lista criada\n",
        "def encontrarPalavras(i):\n",
        "  if i in palavras:\n",
        "    return True\n",
        "\n",
        "p1 = beam.Pipeline()\n",
        "\n",
        "c = (\n",
        "    p1\n",
        "    | beam.io.ReadFromText(\"/content/poema.txt\")\n",
        "    | beam.FlatMap(lambda record: record.split(' '))\n",
        "    | beam.Filter(encontrarPalavras)\n",
        "    | beam.io.WriteToText(\"/content/resultado2.txt\")\n",
        ")\n",
        "\n",
        "p1.run()"
      ],
      "metadata": {
        "colab": {
          "base_uri": "https://localhost:8080/"
        },
        "id": "GFqA7Cn6gAJc",
        "outputId": "085d31d0-28a1-4fb5-ca5d-88f9d3bd3f4d"
      },
      "execution_count": 12,
      "outputs": [
        {
          "output_type": "execute_result",
          "data": {
            "text/plain": [
              "<apache_beam.runners.portability.fn_api_runner.fn_runner.RunnerResult at 0x799586edd480>"
            ]
          },
          "metadata": {},
          "execution_count": 12
        }
      ]
    },
    {
      "cell_type": "markdown",
      "source": [
        "# Aula 3.6"
      ],
      "metadata": {
        "id": "zuUwEShrhZG7"
      }
    },
    {
      "cell_type": "markdown",
      "source": [
        "## Função beam.Flatten\n",
        "Funciona como um Join simplificado"
      ],
      "metadata": {
        "id": "NRzjLN00hawz"
      }
    },
    {
      "cell_type": "code",
      "source": [
        "p = beam.Pipeline()\n",
        "\n",
        "negros = ('Adão','Jesus','Mike')\n",
        "brancos = ('Túlio', 'Mary','Joca')\n",
        "indios = ('Vic','Marta','Tom')\n",
        "\n",
        "negros_pc = p | \"Criando Pcollection negros\" >> beam.Create(negros)\n",
        "brancos_pc = p | \"Criando Pcollection brancos\" >> beam.Create(brancos)\n",
        "indios_pc = p | \"Criando Pcollection indios\" >> beam.Create(indios)\n",
        "\n",
        "pessoas = ((negros_pc,brancos_pc,indios_pc) | beam.Flatten()) | beam.io.WriteToText(\"/content/pessoas.txt\")\n",
        "p.run()"
      ],
      "metadata": {
        "colab": {
          "base_uri": "https://localhost:8080/"
        },
        "id": "Bk9hjRO4gmUt",
        "outputId": "34794fc9-8ec3-490a-c327-ca079f571fc9"
      },
      "execution_count": 15,
      "outputs": [
        {
          "output_type": "execute_result",
          "data": {
            "text/plain": [
              "<apache_beam.runners.portability.fn_api_runner.fn_runner.RunnerResult at 0x799586dcddb0>"
            ]
          },
          "metadata": {},
          "execution_count": 15
        }
      ]
    },
    {
      "cell_type": "markdown",
      "source": [
        "# Aula 3.7"
      ],
      "metadata": {
        "id": "6pFWuXkWiWOD"
      }
    },
    {
      "cell_type": "markdown",
      "source": [
        "## Função CombinePerKey"
      ],
      "metadata": {
        "id": "uSdAi0ffiX1L"
      }
    },
    {
      "cell_type": "code",
      "source": [
        "p1 = beam.Pipeline()\n",
        "\n",
        "Tempo_Atrasado = (\n",
        "    p1\n",
        "    | \"Importando Dados\" >> beam.io.ReadFromText(\"/content/voos_sample.csv\")\n",
        "    | \"Separando as Colunas por Virgula\" >> beam.Map(lambda record: record.split(','))\n",
        "    | \"Pegar voos atrasados\" >> beam.Filter(lambda record: int(record[8]) > 0)\n",
        "    # Criando um Key, Value\n",
        "    | \"Criar par\" >> beam.Map(lambda record: (record[4],int(record[8])))\n",
        "    # Fazendo Soma por chave\n",
        "    | \"Somar por key\" >> beam.CombinePerKey(sum)\n",
        "    | \"Mostrar Resultados\" >> beam.Map(print)\n",
        ")\n",
        "\n",
        "p1.run()"
      ],
      "metadata": {
        "colab": {
          "base_uri": "https://localhost:8080/"
        },
        "id": "X7xzfULNiAkt",
        "outputId": "15a5aa76-ae65-4eac-b1ed-44532fdae271"
      },
      "execution_count": 17,
      "outputs": [
        {
          "output_type": "stream",
          "name": "stdout",
          "text": [
            "('LAX', 94)\n",
            "('HNL', 15)\n",
            "('DFW', 95)\n",
            "('OGG', 138)\n",
            "('JFK', 220)\n"
          ]
        },
        {
          "output_type": "execute_result",
          "data": {
            "text/plain": [
              "<apache_beam.runners.portability.fn_api_runner.fn_runner.RunnerResult at 0x799586b62350>"
            ]
          },
          "metadata": {},
          "execution_count": 17
        }
      ]
    },
    {
      "cell_type": "markdown",
      "source": [
        "# Aula 3.8"
      ],
      "metadata": {
        "id": "CSXms4eVlfdk"
      }
    },
    {
      "cell_type": "markdown",
      "source": [
        "## Função combiners.Count.PerKey"
      ],
      "metadata": {
        "id": "d9oS7K74lhHr"
      }
    },
    {
      "cell_type": "code",
      "source": [
        "p1 = beam.Pipeline()\n",
        "\n",
        "Qtd_Atrasos = (\n",
        "     p1\n",
        "    | \"Importando Dados\" >> beam.io.ReadFromText(\"/content/voos_sample.csv\")\n",
        "    | \"Separando as Colunas por Virgula\" >> beam.Map(lambda record: record.split(','))\n",
        "    | \"Pegar voos atrasados\" >> beam.Filter(lambda record: int(record[8]) > 0)\n",
        "    # Criando um Key, Value\n",
        "    | \"Criar par\" >> beam.Map(lambda record: (record[4],int(record[8])))\n",
        "    # Fazendo Contagem\n",
        "    | \"Somar por key\" >> beam.combiners.Count.PerKey()\n",
        "    | \"Mostrar Resultados\" >> beam.Map(print)\n",
        ")\n",
        "\n",
        "p1.run()"
      ],
      "metadata": {
        "colab": {
          "base_uri": "https://localhost:8080/"
        },
        "id": "rBmqLe6sjG19",
        "outputId": "6da0a38e-4d27-4446-9025-0e00af9a68bd"
      },
      "execution_count": 18,
      "outputs": [
        {
          "output_type": "stream",
          "name": "stdout",
          "text": [
            "('LAX', 5)\n",
            "('HNL', 1)\n",
            "('DFW', 1)\n",
            "('OGG', 1)\n",
            "('JFK', 4)\n"
          ]
        },
        {
          "output_type": "execute_result",
          "data": {
            "text/plain": [
              "<apache_beam.runners.portability.fn_api_runner.fn_runner.RunnerResult at 0x799586ea0460>"
            ]
          },
          "metadata": {},
          "execution_count": 18
        }
      ]
    },
    {
      "cell_type": "markdown",
      "source": [
        "# Aula 3.9"
      ],
      "metadata": {
        "id": "4xH9h15VmCys"
      }
    },
    {
      "cell_type": "markdown",
      "source": [
        "## CoGroupByKey"
      ],
      "metadata": {
        "id": "j8eU3sLnmGft"
      }
    },
    {
      "cell_type": "code",
      "source": [
        "p1 = beam.Pipeline()\n",
        "\n",
        "Tempo_Atrasado = (\n",
        "    p1\n",
        "    | \"Importando Dados Atrasos\" >> beam.io.ReadFromText(\"/content/voos_sample.csv\")\n",
        "    | \"Separando as Colunas por Virgula\" >> beam.Map(lambda record: record.split(','))\n",
        "    | \"Pegar voos atrasados\" >> beam.Filter(lambda record: int(record[8]) > 0)\n",
        "    # Criando um Key, Value\n",
        "    | \"Criar par\" >> beam.Map(lambda record: (record[4],int(record[8])))\n",
        "    # Fazendo Soma por chave\n",
        "    | \"Somar por key\" >> beam.CombinePerKey(sum)\n",
        ")\n",
        "\n",
        "Qtd_Atrasos = (\n",
        "    p1\n",
        "    | \"Importando Dados\" >> beam.io.ReadFromText(\"/content/voos_sample.csv\")\n",
        "    | \"Separando as Colunas por Virgula qtd\" >> beam.Map(lambda record: record.split(','))\n",
        "    | \"Pegar voos atrasados qtd\" >> beam.Filter(lambda record: int(record[8]) > 0)\n",
        "    # Criando um Key, Value\n",
        "    | \"Criar par qtd\" >> beam.Map(lambda record: (record[4],int(record[8])))\n",
        "    # Fazendo Contagem\n",
        "    | \"Contar por Key\" >> beam.combiners.Count.PerKey()\n",
        "\n",
        ")\n",
        "\n",
        "tabelas_atrasos = (\n",
        "    {\"Qtd_Atrasos\": Qtd_Atrasos, \"Tempo_Atrasado\": Tempo_Atrasado}\n",
        "    | \"Group By\" >> beam.CoGroupByKey()\n",
        "    | beam.Map(print)\n",
        ")\n",
        "\n",
        "\n",
        "p1.run()\n"
      ],
      "metadata": {
        "colab": {
          "base_uri": "https://localhost:8080/"
        },
        "id": "II1vJH0DmAMM",
        "outputId": "eea2cfa4-505b-4390-e5d4-35abb2341e3a"
      },
      "execution_count": 21,
      "outputs": [
        {
          "output_type": "stream",
          "name": "stdout",
          "text": [
            "('LAX', {'Qtd_Atrasos': [5], 'Tempo_Atrasado': [94]})\n",
            "('HNL', {'Qtd_Atrasos': [1], 'Tempo_Atrasado': [15]})\n",
            "('DFW', {'Qtd_Atrasos': [1], 'Tempo_Atrasado': [95]})\n",
            "('OGG', {'Qtd_Atrasos': [1], 'Tempo_Atrasado': [138]})\n",
            "('JFK', {'Qtd_Atrasos': [4], 'Tempo_Atrasado': [220]})\n"
          ]
        },
        {
          "output_type": "execute_result",
          "data": {
            "text/plain": [
              "<apache_beam.runners.portability.fn_api_runner.fn_runner.RunnerResult at 0x799586da57b0>"
            ]
          },
          "metadata": {},
          "execution_count": 21
        }
      ]
    },
    {
      "cell_type": "markdown",
      "source": [
        "# Aula 3.10"
      ],
      "metadata": {
        "id": "efBUns0enBmD"
      }
    },
    {
      "cell_type": "markdown",
      "source": [
        "## ParDo - Funções Customizadas"
      ],
      "metadata": {
        "id": "6hQ7FN2CnDW7"
      }
    },
    {
      "cell_type": "code",
      "source": [
        "p1 = beam.Pipeline()\n",
        "\n",
        "# Função que são executadas em paralelo\n",
        "# Substitui a função Filter + Lambda pela Classe 'Filtro'\n",
        "# O uso do ParDo, se da devido ao ser criado a classe beam.DoFn\n",
        "class filtro(beam.DoFn):\n",
        "  def process(self,record):\n",
        "    if int(record[8]) > 0:\n",
        "      return [record]\n",
        "\n",
        "Tempo_Atrasos = (\n",
        "  p1\n",
        "  | \"Importar Dados Atraso\" >> beam.io.ReadFromText(r\"C:\\Users\\cassi\\Google Drive\\GCP\\Dataflow Course\\Meu_Curso\\voos_sample.csv\", skip_header_lines = 1)\n",
        "  | \"Separar por Vírgulas Atraso\" >> beam.Map(lambda record: record.split(','))\n",
        "  | \"Pegar voos com atraso\" >> beam.ParDo(filtro())\n",
        "  | \"Criar par atraso\" >> beam.Map(lambda record: (record[4],int(record[8])))\n",
        "  | \"Somar por key\" >> beam.CombinePerKey(sum)\n",
        "\n",
        ")\n",
        "\n",
        "Qtd_Atrasos = (\n",
        "  p1\n",
        "  | \"Importar Dados\" >> beam.io.ReadFromText(r\"C:\\Users\\cassi\\Google Drive\\GCP\\Dataflow Course\\Meu_Curso\\voos_sample.csv\", skip_header_lines = 1)\n",
        "  | \"Separar por Vírgulas Qtd\" >> beam.Map(lambda record: record.split(','))\n",
        "  | \"Pegar voos com Qtd\" >> beam.ParDo(filtro())\n",
        "  | \"Criar par Qtd\" >> beam.Map(lambda record: (record[4],int(record[8])))\n",
        "  | \"Contar por key\" >> beam.combiners.Count.PerKey()\n",
        "\n",
        ")\n",
        "\n",
        "tabela_atrasos = (\n",
        "    {'Qtd_Atrasos':Qtd_Atrasos,'Tempo_Atrasos':Tempo_Atrasos}\n",
        "    | \"Group By\" >> beam.CoGroupByKey()\n",
        "    | beam.Map(print)\n",
        ")\n",
        "\n",
        "p1.run()"
      ],
      "metadata": {
        "id": "XBucTsavmnm0"
      },
      "execution_count": null,
      "outputs": []
    }
  ]
}